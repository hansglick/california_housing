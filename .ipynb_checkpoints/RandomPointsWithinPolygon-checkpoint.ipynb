{
 "cells": [
  {
   "cell_type": "markdown",
   "metadata": {},
   "source": [
    "# Import libraries"
   ]
  },
  {
   "cell_type": "code",
   "execution_count": 1,
   "metadata": {},
   "outputs": [],
   "source": [
    "%load_ext autoreload\n",
    "%autoreload 2"
   ]
  },
  {
   "cell_type": "code",
   "execution_count": 2,
   "metadata": {},
   "outputs": [],
   "source": [
    "from lib import *\n",
    "from fun import *"
   ]
  },
  {
   "cell_type": "markdown",
   "metadata": {},
   "source": [
    "# Import polygons"
   ]
  },
  {
   "cell_type": "code",
   "execution_count": 3,
   "metadata": {},
   "outputs": [],
   "source": [
    "shapefilename = \"data/polygons/TG00CAGRP.shp\"\n",
    "npoints_within_polygon = 5\n",
    "saved_filename = \"data/polygons_and_points.csv\""
   ]
  },
  {
   "cell_type": "markdown",
   "metadata": {},
   "source": [
    "# Import Variables"
   ]
  },
  {
   "cell_type": "code",
   "execution_count": 4,
   "metadata": {},
   "outputs": [],
   "source": [
    "blocks = fiona.open(shapefilename)\n",
    "blocks_polygons = [shape(item[\"geometry\"]) for item in blocks]"
   ]
  },
  {
   "cell_type": "markdown",
   "metadata": {},
   "source": [
    "# Generate random points within polygons"
   ]
  },
  {
   "cell_type": "code",
   "execution_count": 39,
   "metadata": {},
   "outputs": [
    {
     "name": "stdout",
     "output_type": "stream",
     "text": [
      "Progression :  100.0%\n"
     ]
    }
   ],
   "source": [
    "L = []\n",
    "errors = 0\n",
    "polyerrors = []\n",
    "for idx,randompolygon in enumerate(blocks_polygons[:]):\n",
    "    \n",
    "    within_points = Draw_Random_Points(randompolygon,npoints_within_polygon)\n",
    "    tempdf = pd.DataFrame(within_points,columns=[\"long\",\"lat\"])\n",
    "    tempdf[\"polygonid\"] = idx\n",
    "    if len(tempdf)==0:\n",
    "        within_points = np.array([[randompolygon.centroid.xy[0][0],randompolygon.centroid.xy[1][0]]])\n",
    "        tempdf = pd.DataFrame(within_points,columns=[\"long\",\"lat\"])\n",
    "        tempdf[\"polygonid\"] = idx\n",
    "    L.append(tempdf)\n",
    "    \n",
    "    clear_output(wait=True)\n",
    "    progression = round ( (idx + 1) / len(blocks_polygons) , 2)\n",
    "    progression = 100 * progression\n",
    "    progression = str(progression) + \"%\"\n",
    "    print(\"Progression : \",progression)\n",
    "    \n",
    "finaldf = pd.concat(L)\n",
    "finaldf.to_csv(saved_filename)"
   ]
  }
 ],
 "metadata": {
  "kernelspec": {
   "display_name": "geosys",
   "language": "python",
   "name": "geosys"
  },
  "language_info": {
   "codemirror_mode": {
    "name": "ipython",
    "version": 3
   },
   "file_extension": ".py",
   "mimetype": "text/x-python",
   "name": "python",
   "nbconvert_exporter": "python",
   "pygments_lexer": "ipython3",
   "version": "3.8.8"
  }
 },
 "nbformat": 4,
 "nbformat_minor": 4
}
