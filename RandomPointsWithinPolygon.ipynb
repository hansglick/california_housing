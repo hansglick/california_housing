{
 "cells": [
  {
   "cell_type": "markdown",
   "metadata": {},
   "source": [
    "# Import libraries"
   ]
  },
  {
   "cell_type": "code",
   "execution_count": 29,
   "metadata": {},
   "outputs": [
    {
     "name": "stdout",
     "output_type": "stream",
     "text": [
      "The autoreload extension is already loaded. To reload it, use:\n",
      "  %reload_ext autoreload\n"
     ]
    }
   ],
   "source": [
    "%load_ext autoreload\n",
    "%autoreload 2"
   ]
  },
  {
   "cell_type": "code",
   "execution_count": 31,
   "metadata": {},
   "outputs": [],
   "source": [
    "from lib import *\n",
    "from fun import *"
   ]
  },
  {
   "cell_type": "markdown",
   "metadata": {},
   "source": [
    "# Import polygons"
   ]
  },
  {
   "cell_type": "code",
   "execution_count": 32,
   "metadata": {},
   "outputs": [],
   "source": [
    "shapefilename = \"data/polygons/TG00CAGRP.shp\"\n",
    "npoints_within_polygon = 5\n",
    "blocks = fiona.open(shapefilename)\n",
    "blocks_polygons = [shape(item[\"geometry\"]) for item in blocks]"
   ]
  },
  {
   "cell_type": "markdown",
   "metadata": {},
   "source": [
    "# Generate random points within polygons"
   ]
  },
  {
   "cell_type": "code",
   "execution_count": 41,
   "metadata": {},
   "outputs": [
    {
     "name": "stdout",
     "output_type": "stream",
     "text": [
      "Progression :  100.0%\n"
     ]
    }
   ],
   "source": [
    "d = AutoVivification()\n",
    "for idx,randompolygon in enumerate(blocks_polygons[:]):\n",
    "    clear_output(wait=True)\n",
    "    within_points = Draw_Random_Points(randompolygon,npoints_within_polygon)\n",
    "    d[idx] = {\"points\" : within_points}\n",
    "    progression = round ( (idx + 1) / len(blocks_polygons) , 2)\n",
    "    progression = 100 * progression\n",
    "    progression = str(progression) + \"%\"\n",
    "    print(\"Progression : \",progression)"
   ]
  },
  {
   "cell_type": "markdown",
   "metadata": {},
   "source": [
    "# Save generated points"
   ]
  },
  {
   "cell_type": "code",
   "execution_count": 42,
   "metadata": {},
   "outputs": [],
   "source": [
    "with open(\"data/polygon_within_points.json\", \"w\") as f:\n",
    "    json.dump(d,f)"
   ]
  },
  {
   "cell_type": "code",
   "execution_count": null,
   "metadata": {},
   "outputs": [],
   "source": []
  },
  {
   "cell_type": "code",
   "execution_count": null,
   "metadata": {},
   "outputs": [],
   "source": [
    "%%timeit\n",
    "elevation = py3dep.elevation_bycoords([(-122, 44)], crs=\"epsg:4326\")"
   ]
  },
  {
   "cell_type": "code",
   "execution_count": 4,
   "metadata": {},
   "outputs": [
    {
     "data": {
      "text/plain": [
       "[1434]"
      ]
     },
     "execution_count": 4,
     "metadata": {},
     "output_type": "execute_result"
    }
   ],
   "source": [
    "elevation"
   ]
  },
  {
   "cell_type": "code",
   "execution_count": null,
   "metadata": {},
   "outputs": [],
   "source": []
  },
  {
   "cell_type": "code",
   "execution_count": 8,
   "metadata": {},
   "outputs": [],
   "source": [
    "import requests\n",
    "import urllib\n",
    "import pandas as pd\n"
   ]
  },
  {
   "cell_type": "code",
   "execution_count": 9,
   "metadata": {},
   "outputs": [],
   "source": [
    "\n",
    "# USGS Elevation Point Query Service\n",
    "url = r'https://nationalmap.gov/epqs/pqs.php?'\n",
    "\n",
    "# coordinates with known elevation \n",
    "lat = [48.633, 48.733, 45.1947, 45.1962]\n",
    "lon = [-93.9667, -94.6167, -93.3257, -93.2755]\n",
    "\n",
    "# create data frame\n",
    "df = pd.DataFrame({\n",
    "    'lat': lat,\n",
    "    'lon': lon\n",
    "})"
   ]
  },
  {
   "cell_type": "code",
   "execution_count": 10,
   "metadata": {},
   "outputs": [],
   "source": [
    "def elevation_function(df, lat_column, lon_column):\n",
    "    \"\"\"Query service using lat, lon. add the elevation values as a new column.\"\"\"\n",
    "    elevations = []\n",
    "    for lat, lon in zip(df[lat_column], df[lon_column]):\n",
    "\n",
    "        # define rest query params\n",
    "        params = {\n",
    "            'output': 'json',\n",
    "            'x': lon,\n",
    "            'y': lat,\n",
    "            'units': 'Meters'\n",
    "        }\n",
    "\n",
    "        # format query string and return query value\n",
    "        result = requests.get((url + urllib.parse.urlencode(params)))\n",
    "        elevations.append(result.json()['USGS_Elevation_Point_Query_Service']['Elevation_Query']['Elevation'])\n",
    "\n",
    "    df['elev_meters'] = elevations\n",
    "    return df\n"
   ]
  },
  {
   "cell_type": "code",
   "execution_count": 11,
   "metadata": {},
   "outputs": [
    {
     "data": {
      "text/html": [
       "<div>\n",
       "<style scoped>\n",
       "    .dataframe tbody tr th:only-of-type {\n",
       "        vertical-align: middle;\n",
       "    }\n",
       "\n",
       "    .dataframe tbody tr th {\n",
       "        vertical-align: top;\n",
       "    }\n",
       "\n",
       "    .dataframe thead th {\n",
       "        text-align: right;\n",
       "    }\n",
       "</style>\n",
       "<table border=\"1\" class=\"dataframe\">\n",
       "  <thead>\n",
       "    <tr style=\"text-align: right;\">\n",
       "      <th></th>\n",
       "      <th>lat</th>\n",
       "      <th>lon</th>\n",
       "      <th>elev_meters</th>\n",
       "    </tr>\n",
       "  </thead>\n",
       "  <tbody>\n",
       "    <tr>\n",
       "      <th>0</th>\n",
       "      <td>48.6330</td>\n",
       "      <td>-93.9667</td>\n",
       "      <td>341.14</td>\n",
       "    </tr>\n",
       "    <tr>\n",
       "      <th>1</th>\n",
       "      <td>48.7330</td>\n",
       "      <td>-94.6167</td>\n",
       "      <td>328.80</td>\n",
       "    </tr>\n",
       "    <tr>\n",
       "      <th>2</th>\n",
       "      <td>45.1947</td>\n",
       "      <td>-93.3257</td>\n",
       "      <td>262.68</td>\n",
       "    </tr>\n",
       "    <tr>\n",
       "      <th>3</th>\n",
       "      <td>45.1962</td>\n",
       "      <td>-93.2755</td>\n",
       "      <td>272.64</td>\n",
       "    </tr>\n",
       "  </tbody>\n",
       "</table>\n",
       "</div>"
      ],
      "text/plain": [
       "       lat      lon  elev_meters\n",
       "0  48.6330 -93.9667       341.14\n",
       "1  48.7330 -94.6167       328.80\n",
       "2  45.1947 -93.3257       262.68\n",
       "3  45.1962 -93.2755       272.64"
      ]
     },
     "execution_count": 11,
     "metadata": {},
     "output_type": "execute_result"
    }
   ],
   "source": [
    "elevation_function(df, 'lat', 'lon')"
   ]
  },
  {
   "cell_type": "code",
   "execution_count": null,
   "metadata": {},
   "outputs": [],
   "source": []
  }
 ],
 "metadata": {
  "kernelspec": {
   "display_name": "geosys",
   "language": "python",
   "name": "geosys"
  },
  "language_info": {
   "codemirror_mode": {
    "name": "ipython",
    "version": 3
   },
   "file_extension": ".py",
   "mimetype": "text/x-python",
   "name": "python",
   "nbconvert_exporter": "python",
   "pygments_lexer": "ipython3",
   "version": "3.8.8"
  }
 },
 "nbformat": 4,
 "nbformat_minor": 4
}
