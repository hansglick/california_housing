{
 "cells": [
  {
   "cell_type": "code",
   "execution_count": 2,
   "metadata": {},
   "outputs": [],
   "source": [
    "%load_ext autoreload\n",
    "%autoreload 2"
   ]
  },
  {
   "cell_type": "code",
   "execution_count": 3,
   "metadata": {},
   "outputs": [],
   "source": [
    "from lib import *\n",
    "from fun import *"
   ]
  },
  {
   "cell_type": "code",
   "execution_count": 7,
   "metadata": {},
   "outputs": [],
   "source": [
    "filename = \"data/sfpoly/2e262912-207a-4424-9e17-08041688d59c202044-1-130emnv.fypm.shp\""
   ]
  },
  {
   "cell_type": "code",
   "execution_count": 8,
   "metadata": {},
   "outputs": [],
   "source": [
    "blocks = fiona.open(filename)"
   ]
  },
  {
   "cell_type": "code",
   "execution_count": 26,
   "metadata": {},
   "outputs": [],
   "source": [
    "blocks_polygons = [shape(item[\"geometry\"]) for item in blocks]"
   ]
  },
  {
   "cell_type": "code",
   "execution_count": 9,
   "metadata": {},
   "outputs": [],
   "source": [
    "df = gpd.read_file(filename)"
   ]
  },
  {
   "cell_type": "code",
   "execution_count": 34,
   "metadata": {},
   "outputs": [
    {
     "data": {
      "text/html": [
       "<div>\n",
       "<style scoped>\n",
       "    .dataframe tbody tr th:only-of-type {\n",
       "        vertical-align: middle;\n",
       "    }\n",
       "\n",
       "    .dataframe tbody tr th {\n",
       "        vertical-align: top;\n",
       "    }\n",
       "\n",
       "    .dataframe thead th {\n",
       "        text-align: right;\n",
       "    }\n",
       "</style>\n",
       "<table border=\"1\" class=\"dataframe\">\n",
       "  <thead>\n",
       "    <tr style=\"text-align: right;\">\n",
       "      <th></th>\n",
       "      <th>objectid</th>\n",
       "      <th>fipst</th>\n",
       "      <th>fipco</th>\n",
       "      <th>tractn</th>\n",
       "      <th>blkgrpn</th>\n",
       "      <th>blkgrpid</th>\n",
       "      <th>bgname</th>\n",
       "      <th>Shape__Are</th>\n",
       "      <th>Shape__Len</th>\n",
       "      <th>geometry</th>\n",
       "    </tr>\n",
       "  </thead>\n",
       "  <tbody>\n",
       "    <tr>\n",
       "      <th>0</th>\n",
       "      <td>1</td>\n",
       "      <td>06</td>\n",
       "      <td>001</td>\n",
       "      <td>400100</td>\n",
       "      <td>1</td>\n",
       "      <td>060014001001</td>\n",
       "      <td>Block Group 1</td>\n",
       "      <td>0.000706</td>\n",
       "      <td>0.144231</td>\n",
       "      <td>POLYGON ((-122.21320 37.85760, -122.21313 37.8...</td>\n",
       "    </tr>\n",
       "    <tr>\n",
       "      <th>1</th>\n",
       "      <td>2</td>\n",
       "      <td>06</td>\n",
       "      <td>001</td>\n",
       "      <td>400200</td>\n",
       "      <td>1</td>\n",
       "      <td>060014002001</td>\n",
       "      <td>Block Group 1</td>\n",
       "      <td>0.000029</td>\n",
       "      <td>0.031774</td>\n",
       "      <td>POLYGON ((-122.24404 37.85026, -122.24409 37.8...</td>\n",
       "    </tr>\n",
       "    <tr>\n",
       "      <th>2</th>\n",
       "      <td>3</td>\n",
       "      <td>06</td>\n",
       "      <td>001</td>\n",
       "      <td>400200</td>\n",
       "      <td>2</td>\n",
       "      <td>060014002002</td>\n",
       "      <td>Block Group 2</td>\n",
       "      <td>0.000031</td>\n",
       "      <td>0.033831</td>\n",
       "      <td>POLYGON ((-122.24372 37.84851, -122.24550 37.8...</td>\n",
       "    </tr>\n",
       "    <tr>\n",
       "      <th>3</th>\n",
       "      <td>4</td>\n",
       "      <td>06</td>\n",
       "      <td>001</td>\n",
       "      <td>400300</td>\n",
       "      <td>1</td>\n",
       "      <td>060014003001</td>\n",
       "      <td>Block Group 1</td>\n",
       "      <td>0.000027</td>\n",
       "      <td>0.025534</td>\n",
       "      <td>POLYGON ((-122.24540 37.84580, -122.24608 37.8...</td>\n",
       "    </tr>\n",
       "    <tr>\n",
       "      <th>4</th>\n",
       "      <td>5</td>\n",
       "      <td>06</td>\n",
       "      <td>001</td>\n",
       "      <td>400300</td>\n",
       "      <td>2</td>\n",
       "      <td>060014003002</td>\n",
       "      <td>Block Group 2</td>\n",
       "      <td>0.000028</td>\n",
       "      <td>0.036617</td>\n",
       "      <td>POLYGON ((-122.25081 37.83713, -122.25084 37.8...</td>\n",
       "    </tr>\n",
       "  </tbody>\n",
       "</table>\n",
       "</div>"
      ],
      "text/plain": [
       "   objectid fipst fipco  tractn blkgrpn      blkgrpid         bgname  \\\n",
       "0         1    06   001  400100       1  060014001001  Block Group 1   \n",
       "1         2    06   001  400200       1  060014002001  Block Group 1   \n",
       "2         3    06   001  400200       2  060014002002  Block Group 2   \n",
       "3         4    06   001  400300       1  060014003001  Block Group 1   \n",
       "4         5    06   001  400300       2  060014003002  Block Group 2   \n",
       "\n",
       "   Shape__Are  Shape__Len                                           geometry  \n",
       "0    0.000706    0.144231  POLYGON ((-122.21320 37.85760, -122.21313 37.8...  \n",
       "1    0.000029    0.031774  POLYGON ((-122.24404 37.85026, -122.24409 37.8...  \n",
       "2    0.000031    0.033831  POLYGON ((-122.24372 37.84851, -122.24550 37.8...  \n",
       "3    0.000027    0.025534  POLYGON ((-122.24540 37.84580, -122.24608 37.8...  \n",
       "4    0.000028    0.036617  POLYGON ((-122.25081 37.83713, -122.25084 37.8...  "
      ]
     },
     "execution_count": 34,
     "metadata": {},
     "output_type": "execute_result"
    }
   ],
   "source": [
    "df.head()"
   ]
  },
  {
   "cell_type": "code",
   "execution_count": 22,
   "metadata": {},
   "outputs": [],
   "source": [
    "m = folium.Map(location = (37.773972,-122.431297), zoom_start=12,width=\"66%\",tiles=\"Cartodbdark_matter\") "
   ]
  },
  {
   "cell_type": "code",
   "execution_count": 30,
   "metadata": {},
   "outputs": [
    {
     "data": {
      "text/plain": [
       "<folium.features.GeoJson at 0x7fc3154adee0>"
      ]
     },
     "execution_count": 30,
     "metadata": {},
     "output_type": "execute_result"
    }
   ],
   "source": [
    "folium.GeoJson(data=df).add_to(m)"
   ]
  },
  {
   "cell_type": "code",
   "execution_count": 32,
   "metadata": {},
   "outputs": [
    {
     "data": {
      "text/plain": [
       "<folium.map.LayerControl at 0x7fc3155e9be0>"
      ]
     },
     "execution_count": 32,
     "metadata": {},
     "output_type": "execute_result"
    }
   ],
   "source": [
    "plugins.Fullscreen().add_to(m)\n",
    "plugins.MeasureControl().add_to(m)\n",
    "folium.TileLayer('openstreetmap').add_to(m)\n",
    "folium.TileLayer('Stamen Terrain').add_to(m)\n",
    "folium.LayerControl().add_to(m)"
   ]
  }
 ],
 "metadata": {
  "kernelspec": {
   "display_name": "geosys",
   "language": "python",
   "name": "geosys"
  },
  "language_info": {
   "codemirror_mode": {
    "name": "ipython",
    "version": 3
   },
   "file_extension": ".py",
   "mimetype": "text/x-python",
   "name": "python",
   "nbconvert_exporter": "python",
   "pygments_lexer": "ipython3",
   "version": "3.8.8"
  }
 },
 "nbformat": 4,
 "nbformat_minor": 4
}
