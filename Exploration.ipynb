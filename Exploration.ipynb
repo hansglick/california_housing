{
 "cells": [
  {
   "cell_type": "code",
   "execution_count": 24,
   "metadata": {},
   "outputs": [
    {
     "name": "stdout",
     "output_type": "stream",
     "text": [
      "The autoreload extension is already loaded. To reload it, use:\n",
      "  %reload_ext autoreload\n"
     ]
    }
   ],
   "source": [
    "%load_ext autoreload\n",
    "%autoreload 2"
   ]
  },
  {
   "cell_type": "markdown",
   "metadata": {},
   "source": [
    "### **Import packages**"
   ]
  },
  {
   "cell_type": "code",
   "execution_count": 25,
   "metadata": {},
   "outputs": [],
   "source": [
    "from lib import *\n",
    "from fun import *"
   ]
  },
  {
   "cell_type": "markdown",
   "metadata": {},
   "source": [
    "### **Metavariables**"
   ]
  },
  {
   "cell_type": "code",
   "execution_count": 3,
   "metadata": {},
   "outputs": [],
   "source": [
    "shapefile = \"data/polygons/TG00CAGRP.shp\"\n",
    "dffile = \"data/original_df.csv\"\n",
    "buffer_distance_in_meters = 50"
   ]
  },
  {
   "cell_type": "markdown",
   "metadata": {},
   "source": [
    "### **Loading data**"
   ]
  },
  {
   "cell_type": "code",
   "execution_count": 4,
   "metadata": {},
   "outputs": [],
   "source": [
    "blocks = fiona.open(shapefile)\n",
    "df = pd.read_csv(dffile)"
   ]
  },
  {
   "cell_type": "markdown",
   "metadata": {},
   "source": [
    "### **Transforming data**"
   ]
  },
  {
   "cell_type": "markdown",
   "metadata": {},
   "source": [
    "##### Polygons Data"
   ]
  },
  {
   "cell_type": "code",
   "execution_count": 5,
   "metadata": {},
   "outputs": [],
   "source": [
    "# Polygons pour chaque block groupe\n",
    "blocks_polygons = [shape(item[\"geometry\"]) for item in blocks]"
   ]
  },
  {
   "cell_type": "code",
   "execution_count": 6,
   "metadata": {},
   "outputs": [],
   "source": [
    "# Polygons sans trous pour chaque block groupe\n",
    "blocks_polygons_filled = []\n",
    "for polygonid,item in enumerate(blocks_polygons):\n",
    "\n",
    "    if item.geom_type == \"MultiPolygon\":\n",
    "        res = MultiPolygon(Polygon(subitem.exterior) for subitem in item)\n",
    "\n",
    "    if item.geom_type == \"Polygon\":\n",
    "        res = Polygon(item.exterior)\n",
    "\n",
    "    res.polygonid = polygonid\n",
    "    blocks_polygons_filled.append(res)"
   ]
  },
  {
   "cell_type": "code",
   "execution_count": 7,
   "metadata": {},
   "outputs": [],
   "source": [
    "# Polygons buffered de 50m pour chaque block groupe\n",
    "blocks_polygons_buffered = [Buffer_A_Shape(item,\n",
    "                                           buffer_distance_in_meters) for item in blocks_polygons_filled]"
   ]
  },
  {
   "cell_type": "markdown",
   "metadata": {},
   "source": [
    "##### Kaggle Data"
   ]
  },
  {
   "cell_type": "code",
   "execution_count": 8,
   "metadata": {},
   "outputs": [],
   "source": [
    "# Ajout d'un id row au df original\n",
    "df[\"rowid\"] = np.arange(len(df))"
   ]
  },
  {
   "cell_type": "code",
   "execution_count": 9,
   "metadata": {},
   "outputs": [],
   "source": [
    "# Construction d'un df collapsed, une row, une unité spatiale\n",
    "dicagg = {\"housing_median_age\" : \"mean\",\n",
    "         \"total_rooms\" : \"mean\",\n",
    "         \"population\" : \"mean\",\n",
    "         \"households\" : \"mean\",\n",
    "         \"median_income\" : \"mean\",\n",
    "         \"median_house_value\" : \"mean\",\n",
    "         \"rowid\" : list,\n",
    "         \"ocean_proximity\" : set}\n",
    "\n",
    "df_points_collapsed = df.groupby([\"longitude\",\"latitude\"]).agg(dicagg).reset_index()\n",
    "df_points_collapsed[\"blockid\"] = np.arange(len(df_points_collapsed))"
   ]
  },
  {
   "cell_type": "markdown",
   "metadata": {},
   "source": [
    "### **Correspondance blockid -> polygonid**"
   ]
  },
  {
   "cell_type": "code",
   "execution_count": 10,
   "metadata": {},
   "outputs": [],
   "source": [
    "centroids_list = []\n",
    "for idrow, row in df_points_collapsed[[\"longitude\",\"latitude\",\"blockid\"]].iterrows():\n",
    "    centroids_list.append(Point(*row[:2]))\n",
    "    \n",
    "tree_polygons_blocks = STRtree(blocks_polygons_filled)\n",
    "polygons_candidates = [tree_polygons_blocks.query(item) for item in centroids_list]\n",
    "correspondance = []\n",
    "\n",
    "for pt,polyst in zip(centroids_list,polygons_candidates):\n",
    "    if len(polyst) == 1:\n",
    "        res = polyst[0].polygonid\n",
    "    if len(polyst) == 0:\n",
    "        res = -999\n",
    "    if len(polyst) > 1:\n",
    "        temp = np.array([pt.distance(candidat.centroid) for candidat in polyst])\n",
    "        idxmin = np.argmin(temp)\n",
    "        res = polyst[idxmin].polygonid\n",
    "    \n",
    "    correspondance.append(res)"
   ]
  },
  {
   "cell_type": "markdown",
   "metadata": {},
   "source": [
    "### **Création de features**"
   ]
  },
  {
   "cell_type": "code",
   "execution_count": 11,
   "metadata": {},
   "outputs": [],
   "source": [
    "df_points_collapsed[\"median_house_value\"] = (df_points_collapsed[\"median_house_value\"] / 1000).astype(int)"
   ]
  },
  {
   "cell_type": "code",
   "execution_count": 12,
   "metadata": {},
   "outputs": [],
   "source": [
    "df_points_collapsed[\"polygonid\"] = pd.Series(correspondance)\n",
    "df_points_collapsed[\"numbering\"] = df_points_collapsed.groupby([\"polygonid\"]).cumcount()\n",
    "df_points_collapsed = df_points_collapsed[(df_points_collapsed.numbering == 0) & (df_points_collapsed.polygonid != -999)]"
   ]
  },
  {
   "cell_type": "code",
   "execution_count": 13,
   "metadata": {},
   "outputs": [],
   "source": [
    "area_array = [blocks_polygons[item].area  for item in df_points_collapsed.polygonid.values]\n",
    "df_points_collapsed[\"area\"] = area_array"
   ]
  },
  {
   "cell_type": "code",
   "execution_count": 19,
   "metadata": {},
   "outputs": [],
   "source": [
    "income_array = df_points_collapsed.median_income.values\n",
    "income_array = stats.rankdata(income_array)\n",
    "income_array = income_array - min(income_array)\n",
    "income_array = income_array / (max(income_array)- min(income_array)) \n",
    "minval = min(income_array)\n",
    "maxval = max(income_array)\n",
    "income_color_array = ColorMapper(minval,maxval,income_array,\"RdYlGn\")\n",
    "df_points_collapsed[\"income_color\"] = income_color_array"
   ]
  },
  {
   "cell_type": "code",
   "execution_count": 20,
   "metadata": {},
   "outputs": [],
   "source": [
    "house_array = df_points_collapsed.median_house_value.values\n",
    "house_array = stats.rankdata(house_array)\n",
    "house_array = house_array - min(house_array)\n",
    "house_array = house_array / (max(house_array)- min(house_array)) \n",
    "minval = min(house_array)\n",
    "maxval = max(house_array)\n",
    "house_color_array = ColorMapper(minval,maxval,house_array,\"RdYlGn\")\n",
    "df_points_collapsed[\"house_color\"] = house_color_array"
   ]
  },
  {
   "cell_type": "code",
   "execution_count": 21,
   "metadata": {},
   "outputs": [],
   "source": [
    "delta_array = house_array - income_array\n",
    "minval = min(delta_array)\n",
    "maxval = max(delta_array)\n",
    "delta_color_array = ColorMapper(minval,maxval,delta_array,\"RdYlGn\")\n",
    "df_points_collapsed[\"delta_color\"] = delta_color_array\n",
    "df_points_collapsed[\"delta\"] = np.round(delta_array,2)\n",
    "# delta, si >0, alors block group contient logement cher comparé à l'income (immobilier hors de prix)\n",
    "# delta, si <0 alors block group contient logement peu cher comparé à l'income (immobilier bon marché)"
   ]
  },
  {
   "cell_type": "code",
   "execution_count": 22,
   "metadata": {},
   "outputs": [],
   "source": [
    "df_points_collapsed[\"households_density\"] = np.round(((1000000 * df_points_collapsed.area) / df_points_collapsed.households),2)\n",
    "df_points_collapsed[\"rooms_by_household\"] = np.round(df_points_collapsed.total_rooms / df_points_collapsed.households,2)\n",
    "df_points_collapsed[\"people_by_households\"] = np.round(df_points_collapsed.population / df_points_collapsed.households,2)\n",
    "df_points_collapsed[\"rooms_by_people\"] = np.round(df_points_collapsed.total_rooms / df_points_collapsed.population,2)"
   ]
  },
  {
   "cell_type": "markdown",
   "metadata": {},
   "source": [
    "### **Création du geojson**"
   ]
  },
  {
   "cell_type": "code",
   "execution_count": 26,
   "metadata": {},
   "outputs": [],
   "source": [
    "float_columns = [\"longitude\",\n",
    "                 \"latitude\",\n",
    "                 \"housing_median_age\",\n",
    "                 \"total_rooms\",\n",
    "                 \"population\",\n",
    "                 \"households\",\n",
    "                 \"median_income\",\n",
    "                 \"median_house_value\",\n",
    "                 \"households_density\",\n",
    "                 \"rooms_by_household\",\n",
    "                 \"people_by_households\",\n",
    "                 \"rooms_by_people\"]\n",
    "\n",
    "int_columns = [\"blockid\",\"polygonid\",\"numbering\"]\n",
    "\n",
    "features = []\n",
    "\n",
    "for rowid,polygonid in enumerate(df_points_collapsed.polygonid.values[:]):    \n",
    "    data = df_points_collapsed.iloc[rowid].to_dict()\n",
    "    for key,value in data.items():\n",
    "        if key in float_columns:\n",
    "            data[key] = round(float(value),2)\n",
    "        if key in int_columns:\n",
    "            data[key] = int(value)\n",
    "        if key == \"ocean_proximity\":\n",
    "            data[key] = list(value)[0]\n",
    "        if key == \"rowid\":\n",
    "            data[key] = \"_\".join([str(item) for item in value])\n",
    "    data[\"rowid\"] = rowid\n",
    "    data[\"fillcolor\"] = data[\"delta_color\"]\n",
    "    data[\"fill_opacity\"] = 0.66\n",
    "    data[\"color\"] = \"white\"\n",
    "    data[\"opacity\"] = 0\n",
    "    feature = {\"type\":\"Feature\",\n",
    "               \"properties\":data,\n",
    "               \"geometry\":shapely.geometry.mapping(blocks_polygons_filled[polygonid])}\n",
    "    features.append(feature)\n",
    "final_geojson = {\"type\": \"FeatureCollection\",\"features\" : features}"
   ]
  },
  {
   "cell_type": "markdown",
   "metadata": {},
   "source": [
    "### **Création de la map**"
   ]
  },
  {
   "cell_type": "code",
   "execution_count": 27,
   "metadata": {},
   "outputs": [
    {
     "data": {
      "text/plain": [
       "<folium.map.LayerControl at 0x7f0da749a340>"
      ]
     },
     "execution_count": 27,
     "metadata": {},
     "output_type": "execute_result"
    }
   ],
   "source": [
    "barycentre = np.mean(df_points_collapsed[[\"latitude\",\"longitude\"]].values,axis=0)\n",
    "m = folium.Map(location = barycentre, zoom_start= 6,width=\"66%\",tiles=\"Cartodbdark_matter\") \n",
    "\n",
    "stylefun = lambda x: {'fillColor' : x['properties']['fillcolor'],\n",
    "                      'fillOpacity' : x['properties']['fill_opacity'],\n",
    "                     'color' : x['properties']['color'],\n",
    "                     'opacity' : x['properties']['opacity']}\n",
    "\n",
    "folium.GeoJson(data=final_geojson,\n",
    "               style_function= stylefun,\n",
    "               smooth_factor=5,\n",
    "               tooltip=folium.features.GeoJsonTooltip(fields=[\"rowid\",\n",
    "                                                              'median_income',\n",
    "                                                              \"delta\",\n",
    "                                                              \"housing_median_age\",\n",
    "                                                              \"total_rooms\",\n",
    "                                                              \"population\",\n",
    "                                                              \"households\",\n",
    "                                                              \"households_density\",\n",
    "                                                              \"rooms_by_household\",\n",
    "                                                              \"people_by_households\",\n",
    "                                                              \"rooms_by_people\",\n",
    "                                                              \"median_house_value\"],\n",
    "                                                      aliases=[\"rowid : \",\n",
    "                                                               \"Salaire : \",\n",
    "                                                               \"Delta : \",\n",
    "                                                               \"Age : \",\n",
    "                                                               \"Nombre de pièces : \", \n",
    "                                                               \"Pop. : \",\n",
    "                                                               \"Nombre de ménages : \",\n",
    "                                                               \"Surface / ménages : \",\n",
    "                                                               \"N. pièces / ménage : \",\n",
    "                                                               \"N. pers. / ménage : \",\n",
    "                                                               \"N. pièces / pers. : \",\n",
    "                                                               \"Prix immobilier (TARGET) : \"])).add_to(m)\n",
    "\n",
    "\n",
    "plugins.Fullscreen().add_to(m)\n",
    "plugins.MeasureControl().add_to(m)\n",
    "folium.TileLayer('openstreetmap').add_to(m)\n",
    "folium.TileLayer('Stamen Terrain').add_to(m)\n",
    "folium.LayerControl().add_to(m)"
   ]
  }
 ],
 "metadata": {
  "kernelspec": {
   "display_name": "geosys",
   "language": "python",
   "name": "geosys"
  },
  "language_info": {
   "codemirror_mode": {
    "name": "ipython",
    "version": 3
   },
   "file_extension": ".py",
   "mimetype": "text/x-python",
   "name": "python",
   "nbconvert_exporter": "python",
   "pygments_lexer": "ipython3",
   "version": "3.8.8"
  }
 },
 "nbformat": 4,
 "nbformat_minor": 4
}
